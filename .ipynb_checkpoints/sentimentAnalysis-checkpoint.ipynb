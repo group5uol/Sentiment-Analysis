{
 "cells": [
  {
   "cell_type": "code",
   "execution_count": 19,
   "metadata": {
    "collapsed": true
   },
   "outputs": [],
   "source": [
    "import tweepy\n",
    "import pandas as pd\n",
    "import numpy as np\n",
    "import nltk\n",
    "from datetime import datetime, date, timedelta\n",
    "from nltk.sentiment.vader import SentimentIntensityAnalyzer\n",
    "print('sdfasdfasdfasfds')\n",
    "log = pd.read_csv(\"./config/login.csv\")\n",
    "consumerKey         = log['consumerKey'][0]\n",
    "consumerSecret      = log['consumerSecret'][0]\n",
    "accessToken         = log['accessToken'][0]\n",
    "accessTokenSecret   = log['accessTokenSecret'][0]\n",
    "\n",
    "auth = tweepy.OAuthHandler(consumerKey, consumerSecret)\n",
    "auth.set_access_token(accessToken, accessTokenSecret)\n",
    "api = tweepy.API(auth)"
   ]
  },
  {
   "cell_type": "code",
   "execution_count": 20,
   "metadata": {
    "pycharm": {
     "name": "#%%\n"
    }
   },
   "outputs": [],
   "source": [
    "# Generate list of dates (7 days window) based on today's date\n",
    "list_of_dates = []\n",
    "today = date.today()\n",
    "for i in range(-7,1):\n",
    "    target_date = (today + timedelta(days=i)).strftime(\"%Y-%m-%d\")\n",
    "    list_of_dates.append(target_date)\n",
    "\n",
    "list_of_dicts = []\n",
    "search_term = 'covid19 covid vaccine'\n",
    "num_tweets = 100\n",
    "list_of_dates = []\n",
    "\n",
    "for end_date in list_of_dates:\n",
    "    start_date = (datetime.strptime(end_date, '%Y-%m-%d') - timedelta(days=1)).strftime(\n",
    "        \"%Y-%m-%d\")  # Create 1-day windows for extraction\n",
    "    tweet_count = len(list_of_dicts)\n",
    "\n",
    "    for tweet in tweepy.Cursor(api.search_tweets,\n",
    "                               q=f'{search_term} since:{start_date} until:{end_date}',\n",
    "                               lang='en',\n",
    "                               count=num_tweets,\n",
    "                               tweet_mode='extended').items(num_tweets):\n",
    "        if (not tweet.retweeted) and ('RT @' not in tweet.full_text):\n",
    "            if tweet.lang == \"en\":\n",
    "                tweet_dict = {}\n",
    "\n",
    "                nltk.download('vader_lexicon')\n",
    "                sid = SentimentIntensityAnalyzer()\n",
    "                score = sid.polarity_scores(tweet.full_text)\n",
    "                comp = score['compound']\n",
    "                if comp >= 0.05:\n",
    "                    tweet_dict['tar'] = 1\n",
    "                elif (comp >-0.05) and (comp <0.05):\n",
    "                    tweet_dict['tar'] = 0\n",
    "                elif comp <= -0.05:\n",
    "                    tweet_dict['tar'] = -1\n",
    "\n",
    "                tweet_dict['username'] = tweet.user.name\n",
    "                tweet_dict['location'] = tweet.user.location\n",
    "                tweet_dict['text'] = tweet.full_text\n",
    "                # tweet_dict['fav_count'] = tweet.favorite_count\n",
    "                tweet_dict['hashtags'] = tweet.entities['hashtags']\n",
    "                tweet_dict['tweet_date'] = tweet.created_at\n",
    "                list_of_dicts.append(tweet_dict)\n",
    "                tweet_count += 1\n",
    "               # print(f'Extracted tweet count = {tweet_count}')\n",
    "\n",
    "    print(f'Completed extraction for {start_date} to {end_date},extracted tweet count = {tweet_count}.')\n",
    "    #time.sleep(100)\n",
    "    print('Ready to go again')"
   ]
  },
  {
   "cell_type": "code",
   "execution_count": 20,
   "metadata": {
    "pycharm": {
     "name": "#%%\n"
    }
   },
   "outputs": [],
   "source": []
  }
 ],
 "metadata": {
  "kernelspec": {
   "display_name": "Python 3 (ipykernel)",
   "language": "python",
   "name": "python3"
  },
  "language_info": {
   "codemirror_mode": {
    "name": "ipython",
    "version": 3
   },
   "file_extension": ".py",
   "mimetype": "text/x-python",
   "name": "python",
   "nbconvert_exporter": "python",
   "pygments_lexer": "ipython3",
   "version": "3.9.10"
  }
 },
 "nbformat": 4,
 "nbformat_minor": 1
}
